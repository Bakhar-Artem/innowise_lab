{
  "nbformat": 4,
  "nbformat_minor": 0,
  "metadata": {
    "colab": {
      "provenance": []
    },
    "kernelspec": {
      "name": "python3",
      "display_name": "Python 3"
    },
    "language_info": {
      "name": "python"
    }
  },
  "cells": [
    {
      "cell_type": "code",
      "execution_count": 102,
      "metadata": {
        "id": "lPTrMRliwzF0"
      },
      "outputs": [],
      "source": [
        "import pandas as pd\n",
        "\n",
        "data = pd.read_csv('/content/adult.data.csv')\n"
      ]
    },
    {
      "cell_type": "code",
      "source": [
        "# Male and Female\n",
        "print(data['sex'].where(data['sex']=='Male').count())\n",
        "print(data['sex'].where(data['sex']=='Female').count())"
      ],
      "metadata": {
        "colab": {
          "base_uri": "https://localhost:8080/"
        },
        "id": "ijbdfydRKI_d",
        "outputId": "66aa4c5f-c179-41c8-cdee-bd7db95c3c19"
      },
      "execution_count": 86,
      "outputs": [
        {
          "output_type": "stream",
          "name": "stdout",
          "text": [
            "21790\n",
            "10771\n"
          ]
        }
      ]
    },
    {
      "cell_type": "code",
      "source": [
        "# male average age \n",
        "\n",
        "print(data['age'].where(data['sex']=='Male').mean())\n"
      ],
      "metadata": {
        "id": "TTpya2yfKOFO"
      },
      "execution_count": null,
      "outputs": []
    },
    {
      "cell_type": "code",
      "source": [
        "# people form usa \n",
        "\n",
        "print((data['native-country'].where(data['native-country']=='United-States').count())/ data['native-country'].count())"
      ],
      "metadata": {
        "id": "dqJQ6xY-KP1n"
      },
      "execution_count": null,
      "outputs": []
    },
    {
      "cell_type": "code",
      "source": [
        "# mean salary\n",
        "\n",
        "print(data['age'].where(data['salary']=='>50K').mean())\n",
        "print(data['age'].where(data['salary']=='>50K').std())\n",
        "# no one get <50K, so I used <=50K criteria\n",
        "print(data['age'].where(data['salary']=='<=50K').mean())\n",
        "print(data['age'].where(data['salary']=='<=50K').std())\n"
      ],
      "metadata": {
        "id": "-pbQXGT2KXW-"
      },
      "execution_count": null,
      "outputs": []
    },
    {
      "cell_type": "code",
      "source": [
        "\n",
        "# high educated means salary >=50K\n",
        "sal_condition= data['salary']=='>50K'\n",
        "edu_sal_condition = (((data['education']== 'Bachelors')|  (data['education']== 'Prof-school') | (data['education']== 'Assoc-acdm') | (data['education']=='Assoc-voc') | (data['education']== 'Masters') | (data['education']== 'Doctorate')) & sal_condition )\n",
        "salary = data['salary'].where(sal_condition).count()\n",
        "salary_education = data['salary'].where(edu_sal_condition).count()\n",
        "print(salary==salary_education)"
      ],
      "metadata": {
        "id": "MShPDB8OKbkH"
      },
      "execution_count": null,
      "outputs": []
    },
    {
      "cell_type": "code",
      "source": [
        "# age statistic by race \n",
        "\n",
        "print(data.groupby(by =['race','sex'])['age'].describe())"
      ],
      "metadata": {
        "id": "PuaiTv_xKZue"
      },
      "execution_count": null,
      "outputs": []
    },
    {
      "cell_type": "code",
      "source": [
        "# married against happy\n",
        "married_cond = ((data['marital-status']=='Married-civ-spouse')| (data['marital-status']=='Married-spouse-absent')| \n",
        "                          (data['marital-status']=='Married-AF-spouse'))\n",
        "married_with_sal_cond = ((data['salary']=='>50K') & married_cond)\n",
        "happy_with_sal_cond = ( (data['salary']=='>50K') & (~married_cond))\n",
        "\n",
        "print(data['salary'].where(married_with_sal_cond).count())\n",
        "print(data['salary'].where(happy_with_sal_cond).count())\n"
      ],
      "metadata": {
        "id": "tmOt-umyKh5f"
      },
      "execution_count": null,
      "outputs": []
    },
    {
      "cell_type": "code",
      "source": [
        "# max work hours\n",
        "max_hours = data['hours-per-week'].max()\n",
        "print(max_hours)\n",
        "people_work_max_hours = data['hours-per-week'].where(data['hours-per-week']==max_hours).count()\n",
        "print(people_work_max_hours)\n",
        "people_work_max_hours_sal = data['salary'].where((data['hours-per-week']==max_hours) & (data['salary']=='>50K')).count()\n",
        "print(people_work_max_hours_sal)\n",
        "print(people_work_max_hours_sal/people_work_max_hours)\n"
      ],
      "metadata": {
        "colab": {
          "base_uri": "https://localhost:8080/"
        },
        "id": "Fxc_mgssKmSA",
        "outputId": "14dd6c08-fbd6-4439-d737-590512ea819c"
      },
      "execution_count": 97,
      "outputs": [
        {
          "output_type": "stream",
          "name": "stdout",
          "text": [
            "99\n",
            "85\n",
            "25\n",
            "0.29411764705882354\n"
          ]
        }
      ]
    },
    {
      "cell_type": "code",
      "source": [
        "# mean hours for each country\n",
        "\n",
        "print(data.where(data['salary']=='>50K').groupby(by=['native-country'])['hours-per-week'].mean())\n",
        "print('\\n')\n",
        "print(data.where(data['salary']=='<=50K').groupby(by=['native-country'])['hours-per-week'].mean())"
      ],
      "metadata": {
        "id": "urGUiKLJNEq4"
      },
      "execution_count": null,
      "outputs": []
    },
    {
      "cell_type": "code",
      "source": [
        "# group yound, adult, retiree\n",
        "\n",
        "data.loc[((data['age']>=16) & (data['age']<35)),'AgeGroup']='young'\n",
        "data.loc[((data['age']>35) & (data['age']<70)),'AgeGroup']='adult'\n",
        "data.loc[((data['age']>70) & (data['age']<=100)),'AgeGroup']='retiree'\n",
        "print(data)"
      ],
      "metadata": {
        "id": "2-5qw_LLP5FP"
      },
      "execution_count": null,
      "outputs": []
    },
    {
      "cell_type": "code",
      "source": [
        "# earn >50K in each group\n",
        "print(data['salary'].where((data['salary']=='>50K')& (data['AgeGroup']=='young')).count())\n",
        "print(data['salary'].where((data['AgeGroup']=='adult') & (data['salary']=='>50K')).count())\n",
        "print(data['salary'].where((data['salary']=='>50K')& (data['AgeGroup']=='retiree')).count())\n",
        "df = data.where(data['salary']=='>50K').groupby(by=['AgeGroup'])['AgeGroup'].count()\n",
        "df = df.where(df==df.max())\n",
        "print(df[df.notna()])\n"
      ],
      "metadata": {
        "colab": {
          "base_uri": "https://localhost:8080/"
        },
        "id": "P5ZIiCXaSpxO",
        "outputId": "9742b61c-c804-40bd-ca36-097bd6123fa1"
      },
      "execution_count": 156,
      "outputs": [
        {
          "output_type": "stream",
          "name": "stdout",
          "text": [
            "1488\n",
            "6023\n",
            "94\n",
            "AgeGroup\n",
            "adult    6023.0\n",
            "Name: AgeGroup, dtype: float64\n"
          ]
        }
      ]
    },
    {
      "cell_type": "code",
      "source": [
        "# occupation\n",
        "\n",
        "print(data.groupby(['occupation'])['occupation'].count())\n",
        "\n",
        "def filter_func(data):\n",
        "  df = data.where(data['hours-per-week']>5)\n",
        "  df = df[df.notna()]\n",
        "  df = df.groupby('occupation')['age'].mean()\n",
        "  df = df.where(df<40)\n",
        "  return (df.index.values)\n",
        "\n",
        "print(filter_func(data))"
      ],
      "metadata": {
        "colab": {
          "base_uri": "https://localhost:8080/"
        },
        "id": "khQLs9ZNYE-G",
        "outputId": "051651e9-8d84-450d-c322-d32626173612"
      },
      "execution_count": 207,
      "outputs": [
        {
          "output_type": "stream",
          "name": "stdout",
          "text": [
            "occupation\n",
            "?                    1843\n",
            "Adm-clerical         3770\n",
            "Armed-Forces            9\n",
            "Craft-repair         4099\n",
            "Exec-managerial      4066\n",
            "Farming-fishing       994\n",
            "Handlers-cleaners    1370\n",
            "Machine-op-inspct    2002\n",
            "Other-service        3295\n",
            "Priv-house-serv       149\n",
            "Prof-specialty       4140\n",
            "Protective-serv       649\n",
            "Sales                3650\n",
            "Tech-support          928\n",
            "Transport-moving     1597\n",
            "Name: occupation, dtype: int64\n",
            "['?' 'Adm-clerical' 'Armed-Forces' 'Craft-repair' 'Exec-managerial'\n",
            " 'Farming-fishing' 'Handlers-cleaners' 'Machine-op-inspct' 'Other-service'\n",
            " 'Priv-house-serv' 'Prof-specialty' 'Protective-serv' 'Sales'\n",
            " 'Tech-support' 'Transport-moving']\n"
          ]
        }
      ]
    }
  ]
}