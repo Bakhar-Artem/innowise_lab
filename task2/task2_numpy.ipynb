{
  "nbformat": 4,
  "nbformat_minor": 0,
  "metadata": {
    "colab": {
      "provenance": [],
      "collapsed_sections": []
    },
    "kernelspec": {
      "name": "python3",
      "display_name": "Python 3"
    },
    "language_info": {
      "name": "python"
    }
  },
  "cells": [
    {
      "cell_type": "markdown",
      "source": [],
      "metadata": {
        "id": "I3tLJENjkoR7"
      }
    },
    {
      "cell_type": "code",
      "source": [
        "import numpy as np\n",
        "# exercise 1\n",
        "array = np.array([1,5,6,8,4,7,8,2,3,6,9,14,4,7,8,5])\n",
        "print(np.where((array<8) & (array>3),-array,array))\n",
        "\n",
        "# exercise 2\n",
        "array[np.argmax(array)]=0\n",
        "print(array)\n",
        "\n",
        "# exercise 3\n",
        "array = np.array([[1, 2, 3], [4, 5, 6, 8, 7]])\n",
        "print(array[1])\n",
        "array_repeats0 = np.repeat(array[0], np.size(array[1])).reshape((np.size(array[0]) * np.size(array[1]), 1))\n",
        "array_repeats1 = np.transpose(\n",
        "    np.repeat(array[1], np.size(array[0])).reshape((np.size(array[1]), np.size(array[0])))).reshape(\n",
        "    [np.size(array[0]) * np.size(array[1]), 1])\n",
        "result = np.append(array_repeats0, array_repeats1, axis=1)\n",
        "print(result)\n",
        "\n",
        "# exercise 4\n",
        "\n",
        "# A = np.random.randint(4,size=24).reshape([8,3])\n",
        "# print(A)\n",
        "# B = np.random.randint(4,size=4).reshape([2,2])\n",
        "# unique = np.unique(B)\n",
        "# print(unique)\n",
        "# print('\\n')\n",
        "# if np.size(unique)==3:\n",
        "#   print(np.where((unique==np.sort(A)).all(axis=1)))\n",
        "\n",
        "\n",
        "# exercise 5\n",
        "\n",
        "A = np.random.randint(2,size = 30).reshape([10,3])\n",
        "\n",
        "print(A)\n",
        "print('Unique A')\n",
        "for row in A:\n",
        "  if np.size(np.unique(row))>1:\n",
        "    print(row)\n",
        "\n",
        "\n",
        "# exercise 6\n",
        "print('\\n')\n",
        "print(A)\n",
        "rows, columns = A.shape\n",
        "for i in range(rows):\n",
        "    for j in range(i + 1, rows):\n",
        "        if (A[i] == A[j]).all():\n",
        "            A = np.delete(A, i, axis=0)\n",
        "            rows = rows - 1\n",
        "            break;\n",
        "print(A)\n",
        "\n",
        "\n"
      ],
      "metadata": {
        "colab": {
          "base_uri": "https://localhost:8080/"
        },
        "id": "brE76eMMpotF",
        "outputId": "68fd8343-5752-4e76-f229-04a06a409605"
      },
      "execution_count": 219,
      "outputs": [
        {
          "output_type": "stream",
          "name": "stdout",
          "text": [
            "[ 1 -5 -6  8 -4 -7  8  2  3 -6  9 14 -4 -7  8 -5]\n",
            "[1 5 6 8 4 7 8 2 3 6 9 0 4 7 8 5]\n",
            "[4, 5, 6, 8, 7]\n",
            "[[1 4]\n",
            " [1 5]\n",
            " [1 6]\n",
            " [1 8]\n",
            " [1 7]\n",
            " [2 4]\n",
            " [2 5]\n",
            " [2 6]\n",
            " [2 8]\n",
            " [2 7]\n",
            " [3 4]\n",
            " [3 5]\n",
            " [3 6]\n",
            " [3 8]\n",
            " [3 7]]\n",
            "[[1 1 1]\n",
            " [1 0 0]\n",
            " [0 0 0]\n",
            " [0 1 0]\n",
            " [1 0 1]\n",
            " [0 1 1]\n",
            " [0 0 0]\n",
            " [1 1 1]\n",
            " [1 1 0]\n",
            " [1 0 0]]\n",
            "Unique A\n",
            "[1 0 0]\n",
            "[0 1 0]\n",
            "[1 0 1]\n",
            "[0 1 1]\n",
            "[1 1 0]\n",
            "[1 0 0]\n",
            "\n",
            "\n",
            "[[1 1 1]\n",
            " [1 0 0]\n",
            " [0 0 0]\n",
            " [0 1 0]\n",
            " [1 0 1]\n",
            " [0 1 1]\n",
            " [0 0 0]\n",
            " [1 1 1]\n",
            " [1 1 0]\n",
            " [1 0 0]]\n",
            "[[1 0 0]\n",
            " [0 1 0]\n",
            " [1 0 1]\n",
            " [0 1 1]\n",
            " [0 0 0]\n",
            " [1 1 1]\n",
            " [1 1 0]\n",
            " [1 0 0]]\n"
          ]
        },
        {
          "output_type": "stream",
          "name": "stderr",
          "text": [
            "/usr/local/lib/python3.7/dist-packages/ipykernel_launcher.py:11: VisibleDeprecationWarning: Creating an ndarray from ragged nested sequences (which is a list-or-tuple of lists-or-tuples-or ndarrays with different lengths or shapes) is deprecated. If you meant to do this, you must specify 'dtype=object' when creating the ndarray.\n",
            "  # This is added back by InteractiveShellApp.init_path()\n"
          ]
        }
      ]
    },
    {
      "cell_type": "code",
      "source": [
        "# task 1 \n",
        "import numpy as np\n",
        "\n",
        "X = np.array([[1, 0, 1], [2, 0, 2], [3, 0, 3], [4, 4, 4]])\n",
        "X_ = [[1, 0, 1], [2, 0, 2], [3, 0, 3], [4, 4, 4]]\n",
        "# python\n",
        "min_ = min(len(X_),len(X_[0]))\n",
        "x=1\n",
        "for i in range(min_):\n",
        "  if X_[i][i]!=0:\n",
        "    x= x*X_[i][i]\n",
        "print(x)\n",
        "# numpy\n",
        "np.prod(np.diag(X)[np.diag(X)!=0])\n"
      ],
      "metadata": {
        "colab": {
          "base_uri": "https://localhost:8080/"
        },
        "id": "zjhZePYvx5Mu",
        "outputId": "6584e1df-8d8e-41d1-b52d-fb536b293a69"
      },
      "execution_count": 226,
      "outputs": [
        {
          "output_type": "stream",
          "name": "stdout",
          "text": [
            "3\n",
            "3\n"
          ]
        },
        {
          "output_type": "execute_result",
          "data": {
            "text/plain": [
              "3"
            ]
          },
          "metadata": {},
          "execution_count": 226
        }
      ]
    },
    {
      "cell_type": "code",
      "source": [
        "# task 2\n",
        "import numpy as np\n",
        "x = np.array([1, 2, 2, 4])\n",
        "y = np.array([4, 2, 1, 2])\n",
        "# numpy\n",
        "print((np.sort(x)==np.sort(y)).all())\n",
        "# python \n",
        "x = [1, 2, 2, 4]\n",
        "y = [4, 2, 1, 2]\n",
        "x.sort()\n",
        "y.sort()\n",
        "for i in range(len(x)):\n",
        "  if x[i] != y[i]:\n",
        "    print(False)\n",
        "    break;\n",
        "print(True)"
      ],
      "metadata": {
        "colab": {
          "base_uri": "https://localhost:8080/"
        },
        "id": "wfi15TGr0668",
        "outputId": "01da2367-de42-40be-da61-0730bf32146a"
      },
      "execution_count": 231,
      "outputs": [
        {
          "output_type": "stream",
          "name": "stdout",
          "text": [
            "True\n",
            "True\n"
          ]
        }
      ]
    },
    {
      "cell_type": "code",
      "source": [
        "# task 3\n",
        "import numpy as np\n",
        "\n",
        "# numpy\n",
        "x = np.array([6, 2, 0, 3, 0, 0, 5, 7, 0])\n",
        "x_nonzero = np.array(np.where(x == 0)) + 1\n",
        "x_nonzero = x_nonzero[0]\n",
        "x_nonzero = x_nonzero[x_nonzero!=np.size(x)]\n",
        "print(np.max(np.take(x,x_nonzero)))\n",
        "\n",
        "# python\n",
        "x = [6, 2, 0, 3, 0, 0, 5, 7, 0]\n",
        "x_nonzero = []\n",
        "for i in range(len(x)):\n",
        "  if x[i]==0:\n",
        "    if i!= len(x)-1:\n",
        "      x_nonzero.append(x[i+1])\n",
        "print(max(x_nonzero))"
      ],
      "metadata": {
        "colab": {
          "base_uri": "https://localhost:8080/"
        },
        "id": "HLfYLIKn2yPT",
        "outputId": "d492d7f9-1adb-453c-b1c0-7eede0e5bab1"
      },
      "execution_count": 259,
      "outputs": [
        {
          "output_type": "stream",
          "name": "stdout",
          "text": [
            "5\n",
            "5\n"
          ]
        }
      ]
    },
    {
      "cell_type": "code",
      "source": [
        "# task 4 \n",
        "import numpy as np\n",
        "from collections import Counter\n",
        "# numpy\n",
        "x = np.array([2, 2, 2, 3, 3, 3, 5])\n",
        "print(np.unique(x, return_counts=True))\n",
        "\n",
        "# python \n",
        "x = [2, 2, 2, 3, 3, 3, 5]\n",
        "c = Counter(x)\n",
        "print(c)"
      ],
      "metadata": {
        "colab": {
          "base_uri": "https://localhost:8080/"
        },
        "id": "s4C86CksEIZK",
        "outputId": "87eb708f-d54e-4c03-fcee-d065ff1b01ba"
      },
      "execution_count": 268,
      "outputs": [
        {
          "output_type": "stream",
          "name": "stdout",
          "text": [
            "(array([2, 3, 5]), array([3, 3, 1]))\n",
            "Counter({2: 3, 3: 3, 5: 1})\n"
          ]
        }
      ]
    },
    {
      "cell_type": "code",
      "source": [
        "# task 5\n",
        "import numpy as np\n",
        "\n"
      ],
      "metadata": {
        "id": "CysFKnwnGFeB"
      },
      "execution_count": null,
      "outputs": []
    },
    {
      "cell_type": "code",
      "source": [
        "# task 6\n",
        "\n",
        "import numpy as np\n",
        "\n",
        "calorie_stats = np.loadtxt(\"/content/cereal.csv\", delimiter=\",\")\n",
        "calorie_stats \n",
        "\n",
        "average_calories = np.mean(calorie_stats-60)\n",
        "print(average_calories)\n",
        "calorie__stats_sorted = np.sort(calorie_stats)\n",
        "calorie__stats_sorted\n",
        "median_calories = np.mean(calorie__stats_sorted)\n",
        "print(median_calories)\n",
        "nth_percentile= np.percentile(calorie_stats,4)\n",
        "more_calories = np.size(calorie_stats[calorie_stats>60])/np.size(calorie_stats)\n",
        "print(more_calories)\n",
        "calorie_std  = np.std(calorie_stats)\n",
        "print(calorie_std)"
      ],
      "metadata": {
        "colab": {
          "base_uri": "https://localhost:8080/"
        },
        "id": "D86LMrGrIjGf",
        "outputId": "2284cfda-a09e-4d7d-80b4-3d29ac6d737b"
      },
      "execution_count": 287,
      "outputs": [
        {
          "output_type": "stream",
          "name": "stdout",
          "text": [
            "46.883116883116884\n",
            "106.88311688311688\n",
            "0.961038961038961\n",
            "19.35718533390827\n"
          ]
        }
      ]
    },
    {
      "cell_type": "markdown",
      "source": [
        "# Новый раздел"
      ],
      "metadata": {
        "id": "fiK8ExqwIood"
      }
    }
  ]
}